{
 "cells": [
  {
   "cell_type": "code",
   "execution_count": 27,
   "metadata": {},
   "outputs": [],
   "source": [
    "import pandas as pd\n",
    "import numpy as np\n",
    "import psycopg2"
   ]
  },
  {
   "cell_type": "code",
   "execution_count": 48,
   "metadata": {},
   "outputs": [],
   "source": [
    "conn = None\n",
    "try:\n",
    "    conn = psycopg2.connect(host=\"localhost\", database=\"nutrition_facts\", user=\"postgres\", password=\"Nikita87\")\n",
    "    cur = conn.cursor()\n",
    "    conn.autocommit=True\n",
    "except(e):\n",
    "    print(e)"
   ]
  },
  {
   "cell_type": "code",
   "execution_count": 49,
   "metadata": {},
   "outputs": [
    {
     "name": "stdout",
     "output_type": "stream",
     "text": [
      "None\n"
     ]
    }
   ],
   "source": [
    "res = cur.execute(\"SELECT version()\")\n",
    "print(res)"
   ]
  },
  {
   "cell_type": "code",
   "execution_count": 50,
   "metadata": {},
   "outputs": [
    {
     "data": {
      "text/plain": [
       "('PostgreSQL 11.5, compiled by Visual C++ build 1914, 64-bit',)"
      ]
     },
     "execution_count": 50,
     "metadata": {},
     "output_type": "execute_result"
    }
   ],
   "source": [
    "cur.fetchone()"
   ]
  },
  {
   "cell_type": "code",
   "execution_count": 51,
   "metadata": {},
   "outputs": [],
   "source": [
    "query = cur.execute(\"SELECT * FROM food_facts\")"
   ]
  },
  {
   "cell_type": "code",
   "execution_count": 53,
   "metadata": {},
   "outputs": [
    {
     "data": {
      "text/plain": [
       "(0,\n",
       " 0.0,\n",
       " 'Cornstarch',\n",
       " 100.0,\n",
       " 381.0,\n",
       " 0.1,\n",
       " 0.0,\n",
       " 0.0,\n",
       " 9.0,\n",
       " 0.4,\n",
       " 0.0,\n",
       " 0.0,\n",
       " 0.0,\n",
       " 0.0,\n",
       " 0.0,\n",
       " 0.0,\n",
       " 0.0,\n",
       " 0.0,\n",
       " 0.0,\n",
       " 0.0,\n",
       " 0.0,\n",
       " 0.0,\n",
       " 0.0,\n",
       " 0.0,\n",
       " 0.0,\n",
       " 0.0,\n",
       " 0.0,\n",
       " 0.0,\n",
       " 0.0,\n",
       " 0.0,\n",
       " 2.0,\n",
       " 0.05,\n",
       " 0.47,\n",
       " 3.0,\n",
       " 0.053,\n",
       " 13.0,\n",
       " 3.0,\n",
       " 2.8,\n",
       " 0.06,\n",
       " 0.26,\n",
       " 0.019,\n",
       " 0.012,\n",
       " 0.02,\n",
       " 0.006,\n",
       " 0.053,\n",
       " 0.009,\n",
       " 0.008,\n",
       " 0.0,\n",
       " 0.01,\n",
       " 0.036,\n",
       " 0.006,\n",
       " 0.006,\n",
       " 0.013,\n",
       " 0.024,\n",
       " 0.012,\n",
       " 0.009,\n",
       " 0.001,\n",
       " 0.01,\n",
       " 0.014,\n",
       " 91.27,\n",
       " 0.9,\n",
       " 0.0,\n",
       " 0.0,\n",
       " 0.0,\n",
       " 0.0,\n",
       " 0.0,\n",
       " 0.0,\n",
       " 0.0,\n",
       " 0.05,\n",
       " 0.009,\n",
       " 0.016,\n",
       " 0.025,\n",
       " 0.0,\n",
       " 0.0,\n",
       " 0.09,\n",
       " 0.0,\n",
       " 0.0,\n",
       " 8.32)"
      ]
     },
     "execution_count": 53,
     "metadata": {},
     "output_type": "execute_result"
    }
   ],
   "source": [
    "cur.fetchone()"
   ]
  },
  {
   "cell_type": "code",
   "execution_count": null,
   "metadata": {},
   "outputs": [],
   "source": []
  }
 ],
 "metadata": {
  "kernelspec": {
   "display_name": "Python 3",
   "language": "python",
   "name": "python3"
  },
  "language_info": {
   "codemirror_mode": {
    "name": "ipython",
    "version": 3
   },
   "file_extension": ".py",
   "mimetype": "text/x-python",
   "name": "python",
   "nbconvert_exporter": "python",
   "pygments_lexer": "ipython3",
   "version": "3.7.3"
  }
 },
 "nbformat": 4,
 "nbformat_minor": 2
}
